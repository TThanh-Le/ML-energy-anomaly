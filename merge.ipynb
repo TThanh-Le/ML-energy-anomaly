{
  "nbformat": 4,
  "nbformat_minor": 0,
  "metadata": {
    "colab": {
      "provenance": []
    },
    "kernelspec": {
      "name": "python3",
      "display_name": "Python 3"
    },
    "language_info": {
      "name": "python"
    }
  },
  "cells": [
    {
      "cell_type": "code",
      "source": [
        "from google.colab import drive\n",
        "drive.mount('/content/drive')"
      ],
      "metadata": {
        "colab": {
          "base_uri": "https://localhost:8080/"
        },
        "id": "pmnqxOxQkLb1",
        "outputId": "f60ed3b6-0ab7-45fd-d4f6-f399fd9ec764"
      },
      "execution_count": null,
      "outputs": [
        {
          "output_type": "stream",
          "name": "stdout",
          "text": [
            "Mounted at /content/drive\n"
          ]
        }
      ]
    },
    {
      "cell_type": "code",
      "source": [
        "%pwd\n",
        "%cd drive/MyDrive/LEAD/"
      ],
      "metadata": {
        "colab": {
          "base_uri": "https://localhost:8080/"
        },
        "id": "Rxnt8O80kLNL",
        "outputId": "4d15ef70-f459-4b06-b63e-0a09a7fb04ec"
      },
      "execution_count": null,
      "outputs": [
        {
          "output_type": "stream",
          "name": "stdout",
          "text": [
            "/content/drive/MyDrive/LEAD\n"
          ]
        }
      ]
    },
    {
      "cell_type": "code",
      "source": [
        "import pandas as pd\n",
        "import pandas as pd\n",
        "from sklearn.preprocessing import LabelEncoder\n"
      ],
      "metadata": {
        "id": "0w91BJ-ukjOh"
      },
      "execution_count": null,
      "outputs": []
    },
    {
      "cell_type": "code",
      "source": [
        "train_meta=pd.read_csv('train_meta.csv')\n",
        "print(\"Cac gia tri bi thieu\")\n",
        "train_meta=train_meta.drop(columns=['site_id'])\n",
        "train_meta.isnull().sum()"
      ],
      "metadata": {
        "colab": {
          "base_uri": "https://localhost:8080/",
          "height": 353
        },
        "id": "Oy4gbcNOJDgZ",
        "outputId": "d96b0c98-31ad-4f05-eee0-7847faea403e"
      },
      "execution_count": null,
      "outputs": [
        {
          "output_type": "stream",
          "name": "stdout",
          "text": [
            "Cac gia tri bi thieu\n"
          ]
        },
        {
          "output_type": "execute_result",
          "data": {
            "text/plain": [
              "building_id            0\n",
              "timestamp              0\n",
              "meter_reading     107653\n",
              "primary_use            0\n",
              "square_feet            0\n",
              "year_built       1161101\n",
              "floor_count      1330396\n",
              "anomaly                0\n",
              "dtype: int64"
            ],
            "text/html": [
              "<div>\n",
              "<style scoped>\n",
              "    .dataframe tbody tr th:only-of-type {\n",
              "        vertical-align: middle;\n",
              "    }\n",
              "\n",
              "    .dataframe tbody tr th {\n",
              "        vertical-align: top;\n",
              "    }\n",
              "\n",
              "    .dataframe thead th {\n",
              "        text-align: right;\n",
              "    }\n",
              "</style>\n",
              "<table border=\"1\" class=\"dataframe\">\n",
              "  <thead>\n",
              "    <tr style=\"text-align: right;\">\n",
              "      <th></th>\n",
              "      <th>0</th>\n",
              "    </tr>\n",
              "  </thead>\n",
              "  <tbody>\n",
              "    <tr>\n",
              "      <th>building_id</th>\n",
              "      <td>0</td>\n",
              "    </tr>\n",
              "    <tr>\n",
              "      <th>timestamp</th>\n",
              "      <td>0</td>\n",
              "    </tr>\n",
              "    <tr>\n",
              "      <th>meter_reading</th>\n",
              "      <td>107653</td>\n",
              "    </tr>\n",
              "    <tr>\n",
              "      <th>primary_use</th>\n",
              "      <td>0</td>\n",
              "    </tr>\n",
              "    <tr>\n",
              "      <th>square_feet</th>\n",
              "      <td>0</td>\n",
              "    </tr>\n",
              "    <tr>\n",
              "      <th>year_built</th>\n",
              "      <td>1161101</td>\n",
              "    </tr>\n",
              "    <tr>\n",
              "      <th>floor_count</th>\n",
              "      <td>1330396</td>\n",
              "    </tr>\n",
              "    <tr>\n",
              "      <th>anomaly</th>\n",
              "      <td>0</td>\n",
              "    </tr>\n",
              "  </tbody>\n",
              "</table>\n",
              "</div><br><label><b>dtype:</b> int64</label>"
            ]
          },
          "metadata": {},
          "execution_count": 9
        }
      ]
    },
    {
      "cell_type": "code",
      "source": [
        "building_meta = pd.read_csv('building_metadata.csv')\n",
        "print(\"Building_meta shape:\", building_meta.shape)"
      ],
      "metadata": {
        "colab": {
          "base_uri": "https://localhost:8080/"
        },
        "id": "T9AA6JpakVdD",
        "outputId": "10cb478d-f51b-4f88-c51e-4d77166220b7"
      },
      "execution_count": null,
      "outputs": [
        {
          "output_type": "stream",
          "name": "stdout",
          "text": [
            "Building_meta shape: (1449, 6)\n"
          ]
        }
      ]
    },
    {
      "cell_type": "code",
      "source": [
        "years=building_meta['year_built'].unique()\n",
        "print(years)"
      ],
      "metadata": {
        "colab": {
          "base_uri": "https://localhost:8080/"
        },
        "id": "T31ZMZKT17pq",
        "outputId": "258b44f5-c4a8-4506-dd73-8999a8c6d063"
      },
      "execution_count": null,
      "outputs": [
        {
          "output_type": "stream",
          "name": "stdout",
          "text": [
            "[2008. 2004. 1991. 2002. 1975. 2000. 1981. 1989. 2003. 2010. 1968. 1999.\n",
            " 2013. 1974. 1996. 1980. 1977. 1990. 1985. 2001. 1969. 2005. 2016. 2006.\n",
            " 2014. 1970. 1971. 2011. 1997. 2007. 1998. 2009. 1979. 1986. 1982. 1983.\n",
            "   nan 1913. 1953. 1909. 1958. 1960. 1976. 1906. 1900. 1995. 1956. 1930.\n",
            " 1967. 1919. 1955. 1965. 1907. 2012. 1992. 1948. 1950. 1941. 1957. 1964.\n",
            " 1940. 1951. 1966. 1934. 1959. 1993. 1939. 1918. 1963. 1987. 1914. 1973.\n",
            " 1988. 1935. 1942. 2015. 1931. 1928. 1929. 1908. 1927. 1923. 1962. 1944.\n",
            " 1910. 1949. 2017. 1922. 1911. 1932. 1978. 1912. 1916. 1924. 1926. 1904.\n",
            " 1984. 1903. 1925. 1961. 1921. 1972. 1936. 1954. 1905. 1920. 1917. 1952.\n",
            " 1994. 1933. 1945. 1938. 1915. 1947. 1946. 1902. 1937.]\n"
          ]
        }
      ]
    },
    {
      "cell_type": "code",
      "source": [
        "categories = train_org['primary_use'].unique()"
      ],
      "metadata": {
        "id": "EhdI3MP_kNb-"
      },
      "execution_count": null,
      "outputs": []
    },
    {
      "cell_type": "code",
      "source": [
        "print(categories)\n",
        "categories.shape"
      ],
      "metadata": {
        "colab": {
          "base_uri": "https://localhost:8080/"
        },
        "id": "x0HvEjYik5Gd",
        "outputId": "94080857-4ade-4c17-ff9f-d902a159c5ce"
      },
      "execution_count": null,
      "outputs": [
        {
          "output_type": "stream",
          "name": "stdout",
          "text": [
            "['Education' 'Lodging/residential' 'Office'\n",
            " 'Entertainment/public assembly' 'Other' 'Retail' 'Parking'\n",
            " 'Public services' 'Warehouse/storage' 'Food sales and service'\n",
            " 'Religious worship' 'Healthcare' 'Utility' 'Technology/science'\n",
            " 'Manufacturing/industrial' 'Services']\n"
          ]
        },
        {
          "output_type": "execute_result",
          "data": {
            "text/plain": [
              "(16,)"
            ]
          },
          "metadata": {},
          "execution_count": 9
        }
      ]
    },
    {
      "cell_type": "code",
      "execution_count": null,
      "metadata": {
        "colab": {
          "base_uri": "https://localhost:8080/"
        },
        "id": "xCUb5jIdeTYW",
        "outputId": "4ff2379c-0aed-4657-c97c-9f26cc9e03d0"
      },
      "outputs": [
        {
          "output_type": "stream",
          "name": "stdout",
          "text": [
            "Kết quả đã được lưu vào file 'train_meta.csv'\n"
          ]
        }
      ],
      "source": [
        "train=pd.read_csv('train.csv')\n",
        "\n",
        "\n",
        "train_metadata = pd.merge(train, building_metadata, on='building_id', how='left')\n",
        "\n",
        "columns = [col for col in train_metadata.columns if col != 'anomaly'] + ['anomaly']\n",
        "train_metadata = train_metadata[columns]\n",
        "\n",
        "train_metadata.to_csv('train_meta.csv', index=False)\n",
        "\n",
        "print(\"Kết quả đã được lưu vào file 'train_meta.csv'\")\n"
      ]
    },
    {
      "cell_type": "code",
      "source": [
        "test=pd.read_csv('test.csv')\n",
        "\n",
        "\n",
        "test_metadata = pd.merge(test, building_metadata, on='building_id', how='left')\n",
        "\n",
        "\n",
        "test_metadata.to_csv('test_meta.csv', index=False)\n",
        "\n",
        "print(\"Kết quả đã được lưu vào file 'test_meta.csv'\")\n"
      ],
      "metadata": {
        "colab": {
          "base_uri": "https://localhost:8080/"
        },
        "id": "b07h2YAeGVGt",
        "outputId": "2474d36b-f742-47d4-aab2-269f564607cd"
      },
      "execution_count": null,
      "outputs": [
        {
          "output_type": "stream",
          "name": "stdout",
          "text": [
            "Kết quả đã được lưu vào file 'test_meta.csv'\n"
          ]
        }
      ]
    },
    {
      "cell_type": "code",
      "source": [
        "train_meta=pd.read_csv('train_meta.csv')\n",
        "categories = train_meta['primary_use'].unique()\n",
        "print(categories)\n",
        "categories.shape"
      ],
      "metadata": {
        "colab": {
          "base_uri": "https://localhost:8080/"
        },
        "id": "3NPHBDyCyC6B",
        "outputId": "ce6ac422-2c5b-4354-eb05-eb7d60f4c606"
      },
      "execution_count": null,
      "outputs": [
        {
          "output_type": "stream",
          "name": "stdout",
          "text": [
            "['Education' 'Office' 'Parking' 'Lodging/residential'\n",
            " 'Entertainment/public assembly' 'Public services'\n",
            " 'Manufacturing/industrial' 'Services' 'Other' 'Healthcare'\n",
            " 'Food sales and service' 'Religious worship']\n"
          ]
        },
        {
          "output_type": "execute_result",
          "data": {
            "text/plain": [
              "(12,)"
            ]
          },
          "metadata": {},
          "execution_count": 29
        }
      ]
    },
    {
      "cell_type": "code",
      "source": [
        "test_meta=pd.read_csv('test_meta.csv')\n",
        "categories = test_meta['primary_use'].unique()\n",
        "print(categories)\n",
        "categories.shape"
      ],
      "metadata": {
        "colab": {
          "base_uri": "https://localhost:8080/"
        },
        "id": "GNNuccwwGg55",
        "outputId": "264d61b3-aaf0-4cf4-e00a-489326214ee9"
      },
      "execution_count": null,
      "outputs": [
        {
          "output_type": "stream",
          "name": "stdout",
          "text": [
            "['Education' 'Office' 'Lodging/residential' 'Public services'\n",
            " 'Warehouse/storage' 'Entertainment/public assembly' 'Other' 'Services'\n",
            " 'Retail' 'Healthcare' 'Food sales and service' 'Utility']\n"
          ]
        },
        {
          "output_type": "execute_result",
          "data": {
            "text/plain": [
              "(12,)"
            ]
          },
          "metadata": {},
          "execution_count": 30
        }
      ]
    },
    {
      "cell_type": "code",
      "source": [
        "train_meta.head()"
      ],
      "metadata": {
        "colab": {
          "base_uri": "https://localhost:8080/",
          "height": 399
        },
        "id": "ePSqM0SNHoB3",
        "outputId": "866a9529-ad50-4d78-a1d3-fa71288b49c2"
      },
      "execution_count": null,
      "outputs": [
        {
          "output_type": "execute_result",
          "data": {
            "text/plain": [
              "   building_id            timestamp  meter_reading  site_id primary_use  \\\n",
              "0            1  2016-01-01 00:00:00            NaN        0   Education   \n",
              "1           32  2016-01-01 00:00:00            NaN        0      Office   \n",
              "2           41  2016-01-01 00:00:00            NaN        0      Office   \n",
              "3           55  2016-01-01 00:00:00            NaN        0      Office   \n",
              "4           69  2016-01-01 00:00:00            NaN        0     Parking   \n",
              "\n",
              "   square_feet  year_built  floor_count  anomaly  \n",
              "0         2720      2004.0          NaN        0  \n",
              "1        48392      2005.0          NaN        0  \n",
              "2        93860      1968.0          NaN        0  \n",
              "3        16726      2011.0          NaN        0  \n",
              "4       387638      2000.0          NaN        0  "
            ],
            "text/html": [
              "\n",
              "  <div id=\"df-20f38870-ecb5-465a-a45a-e95acd7c4050\" class=\"colab-df-container\">\n",
              "    <div>\n",
              "<style scoped>\n",
              "    .dataframe tbody tr th:only-of-type {\n",
              "        vertical-align: middle;\n",
              "    }\n",
              "\n",
              "    .dataframe tbody tr th {\n",
              "        vertical-align: top;\n",
              "    }\n",
              "\n",
              "    .dataframe thead th {\n",
              "        text-align: right;\n",
              "    }\n",
              "</style>\n",
              "<table border=\"1\" class=\"dataframe\">\n",
              "  <thead>\n",
              "    <tr style=\"text-align: right;\">\n",
              "      <th></th>\n",
              "      <th>building_id</th>\n",
              "      <th>timestamp</th>\n",
              "      <th>meter_reading</th>\n",
              "      <th>site_id</th>\n",
              "      <th>primary_use</th>\n",
              "      <th>square_feet</th>\n",
              "      <th>year_built</th>\n",
              "      <th>floor_count</th>\n",
              "      <th>anomaly</th>\n",
              "    </tr>\n",
              "  </thead>\n",
              "  <tbody>\n",
              "    <tr>\n",
              "      <th>0</th>\n",
              "      <td>1</td>\n",
              "      <td>2016-01-01 00:00:00</td>\n",
              "      <td>NaN</td>\n",
              "      <td>0</td>\n",
              "      <td>Education</td>\n",
              "      <td>2720</td>\n",
              "      <td>2004.0</td>\n",
              "      <td>NaN</td>\n",
              "      <td>0</td>\n",
              "    </tr>\n",
              "    <tr>\n",
              "      <th>1</th>\n",
              "      <td>32</td>\n",
              "      <td>2016-01-01 00:00:00</td>\n",
              "      <td>NaN</td>\n",
              "      <td>0</td>\n",
              "      <td>Office</td>\n",
              "      <td>48392</td>\n",
              "      <td>2005.0</td>\n",
              "      <td>NaN</td>\n",
              "      <td>0</td>\n",
              "    </tr>\n",
              "    <tr>\n",
              "      <th>2</th>\n",
              "      <td>41</td>\n",
              "      <td>2016-01-01 00:00:00</td>\n",
              "      <td>NaN</td>\n",
              "      <td>0</td>\n",
              "      <td>Office</td>\n",
              "      <td>93860</td>\n",
              "      <td>1968.0</td>\n",
              "      <td>NaN</td>\n",
              "      <td>0</td>\n",
              "    </tr>\n",
              "    <tr>\n",
              "      <th>3</th>\n",
              "      <td>55</td>\n",
              "      <td>2016-01-01 00:00:00</td>\n",
              "      <td>NaN</td>\n",
              "      <td>0</td>\n",
              "      <td>Office</td>\n",
              "      <td>16726</td>\n",
              "      <td>2011.0</td>\n",
              "      <td>NaN</td>\n",
              "      <td>0</td>\n",
              "    </tr>\n",
              "    <tr>\n",
              "      <th>4</th>\n",
              "      <td>69</td>\n",
              "      <td>2016-01-01 00:00:00</td>\n",
              "      <td>NaN</td>\n",
              "      <td>0</td>\n",
              "      <td>Parking</td>\n",
              "      <td>387638</td>\n",
              "      <td>2000.0</td>\n",
              "      <td>NaN</td>\n",
              "      <td>0</td>\n",
              "    </tr>\n",
              "  </tbody>\n",
              "</table>\n",
              "</div>\n",
              "    <div class=\"colab-df-buttons\">\n",
              "\n",
              "  <div class=\"colab-df-container\">\n",
              "    <button class=\"colab-df-convert\" onclick=\"convertToInteractive('df-20f38870-ecb5-465a-a45a-e95acd7c4050')\"\n",
              "            title=\"Convert this dataframe to an interactive table.\"\n",
              "            style=\"display:none;\">\n",
              "\n",
              "  <svg xmlns=\"http://www.w3.org/2000/svg\" height=\"24px\" viewBox=\"0 -960 960 960\">\n",
              "    <path d=\"M120-120v-720h720v720H120Zm60-500h600v-160H180v160Zm220 220h160v-160H400v160Zm0 220h160v-160H400v160ZM180-400h160v-160H180v160Zm440 0h160v-160H620v160ZM180-180h160v-160H180v160Zm440 0h160v-160H620v160Z\"/>\n",
              "  </svg>\n",
              "    </button>\n",
              "\n",
              "  <style>\n",
              "    .colab-df-container {\n",
              "      display:flex;\n",
              "      gap: 12px;\n",
              "    }\n",
              "\n",
              "    .colab-df-convert {\n",
              "      background-color: #E8F0FE;\n",
              "      border: none;\n",
              "      border-radius: 50%;\n",
              "      cursor: pointer;\n",
              "      display: none;\n",
              "      fill: #1967D2;\n",
              "      height: 32px;\n",
              "      padding: 0 0 0 0;\n",
              "      width: 32px;\n",
              "    }\n",
              "\n",
              "    .colab-df-convert:hover {\n",
              "      background-color: #E2EBFA;\n",
              "      box-shadow: 0px 1px 2px rgba(60, 64, 67, 0.3), 0px 1px 3px 1px rgba(60, 64, 67, 0.15);\n",
              "      fill: #174EA6;\n",
              "    }\n",
              "\n",
              "    .colab-df-buttons div {\n",
              "      margin-bottom: 4px;\n",
              "    }\n",
              "\n",
              "    [theme=dark] .colab-df-convert {\n",
              "      background-color: #3B4455;\n",
              "      fill: #D2E3FC;\n",
              "    }\n",
              "\n",
              "    [theme=dark] .colab-df-convert:hover {\n",
              "      background-color: #434B5C;\n",
              "      box-shadow: 0px 1px 3px 1px rgba(0, 0, 0, 0.15);\n",
              "      filter: drop-shadow(0px 1px 2px rgba(0, 0, 0, 0.3));\n",
              "      fill: #FFFFFF;\n",
              "    }\n",
              "  </style>\n",
              "\n",
              "    <script>\n",
              "      const buttonEl =\n",
              "        document.querySelector('#df-20f38870-ecb5-465a-a45a-e95acd7c4050 button.colab-df-convert');\n",
              "      buttonEl.style.display =\n",
              "        google.colab.kernel.accessAllowed ? 'block' : 'none';\n",
              "\n",
              "      async function convertToInteractive(key) {\n",
              "        const element = document.querySelector('#df-20f38870-ecb5-465a-a45a-e95acd7c4050');\n",
              "        const dataTable =\n",
              "          await google.colab.kernel.invokeFunction('convertToInteractive',\n",
              "                                                    [key], {});\n",
              "        if (!dataTable) return;\n",
              "\n",
              "        const docLinkHtml = 'Like what you see? Visit the ' +\n",
              "          '<a target=\"_blank\" href=https://colab.research.google.com/notebooks/data_table.ipynb>data table notebook</a>'\n",
              "          + ' to learn more about interactive tables.';\n",
              "        element.innerHTML = '';\n",
              "        dataTable['output_type'] = 'display_data';\n",
              "        await google.colab.output.renderOutput(dataTable, element);\n",
              "        const docLink = document.createElement('div');\n",
              "        docLink.innerHTML = docLinkHtml;\n",
              "        element.appendChild(docLink);\n",
              "      }\n",
              "    </script>\n",
              "  </div>\n",
              "\n",
              "\n",
              "<div id=\"df-1a584e99-2a52-48a3-ab4a-96bb581f70a1\">\n",
              "  <button class=\"colab-df-quickchart\" onclick=\"quickchart('df-1a584e99-2a52-48a3-ab4a-96bb581f70a1')\"\n",
              "            title=\"Suggest charts\"\n",
              "            style=\"display:none;\">\n",
              "\n",
              "<svg xmlns=\"http://www.w3.org/2000/svg\" height=\"24px\"viewBox=\"0 0 24 24\"\n",
              "     width=\"24px\">\n",
              "    <g>\n",
              "        <path d=\"M19 3H5c-1.1 0-2 .9-2 2v14c0 1.1.9 2 2 2h14c1.1 0 2-.9 2-2V5c0-1.1-.9-2-2-2zM9 17H7v-7h2v7zm4 0h-2V7h2v10zm4 0h-2v-4h2v4z\"/>\n",
              "    </g>\n",
              "</svg>\n",
              "  </button>\n",
              "\n",
              "<style>\n",
              "  .colab-df-quickchart {\n",
              "      --bg-color: #E8F0FE;\n",
              "      --fill-color: #1967D2;\n",
              "      --hover-bg-color: #E2EBFA;\n",
              "      --hover-fill-color: #174EA6;\n",
              "      --disabled-fill-color: #AAA;\n",
              "      --disabled-bg-color: #DDD;\n",
              "  }\n",
              "\n",
              "  [theme=dark] .colab-df-quickchart {\n",
              "      --bg-color: #3B4455;\n",
              "      --fill-color: #D2E3FC;\n",
              "      --hover-bg-color: #434B5C;\n",
              "      --hover-fill-color: #FFFFFF;\n",
              "      --disabled-bg-color: #3B4455;\n",
              "      --disabled-fill-color: #666;\n",
              "  }\n",
              "\n",
              "  .colab-df-quickchart {\n",
              "    background-color: var(--bg-color);\n",
              "    border: none;\n",
              "    border-radius: 50%;\n",
              "    cursor: pointer;\n",
              "    display: none;\n",
              "    fill: var(--fill-color);\n",
              "    height: 32px;\n",
              "    padding: 0;\n",
              "    width: 32px;\n",
              "  }\n",
              "\n",
              "  .colab-df-quickchart:hover {\n",
              "    background-color: var(--hover-bg-color);\n",
              "    box-shadow: 0 1px 2px rgba(60, 64, 67, 0.3), 0 1px 3px 1px rgba(60, 64, 67, 0.15);\n",
              "    fill: var(--button-hover-fill-color);\n",
              "  }\n",
              "\n",
              "  .colab-df-quickchart-complete:disabled,\n",
              "  .colab-df-quickchart-complete:disabled:hover {\n",
              "    background-color: var(--disabled-bg-color);\n",
              "    fill: var(--disabled-fill-color);\n",
              "    box-shadow: none;\n",
              "  }\n",
              "\n",
              "  .colab-df-spinner {\n",
              "    border: 2px solid var(--fill-color);\n",
              "    border-color: transparent;\n",
              "    border-bottom-color: var(--fill-color);\n",
              "    animation:\n",
              "      spin 1s steps(1) infinite;\n",
              "  }\n",
              "\n",
              "  @keyframes spin {\n",
              "    0% {\n",
              "      border-color: transparent;\n",
              "      border-bottom-color: var(--fill-color);\n",
              "      border-left-color: var(--fill-color);\n",
              "    }\n",
              "    20% {\n",
              "      border-color: transparent;\n",
              "      border-left-color: var(--fill-color);\n",
              "      border-top-color: var(--fill-color);\n",
              "    }\n",
              "    30% {\n",
              "      border-color: transparent;\n",
              "      border-left-color: var(--fill-color);\n",
              "      border-top-color: var(--fill-color);\n",
              "      border-right-color: var(--fill-color);\n",
              "    }\n",
              "    40% {\n",
              "      border-color: transparent;\n",
              "      border-right-color: var(--fill-color);\n",
              "      border-top-color: var(--fill-color);\n",
              "    }\n",
              "    60% {\n",
              "      border-color: transparent;\n",
              "      border-right-color: var(--fill-color);\n",
              "    }\n",
              "    80% {\n",
              "      border-color: transparent;\n",
              "      border-right-color: var(--fill-color);\n",
              "      border-bottom-color: var(--fill-color);\n",
              "    }\n",
              "    90% {\n",
              "      border-color: transparent;\n",
              "      border-bottom-color: var(--fill-color);\n",
              "    }\n",
              "  }\n",
              "</style>\n",
              "\n",
              "  <script>\n",
              "    async function quickchart(key) {\n",
              "      const quickchartButtonEl =\n",
              "        document.querySelector('#' + key + ' button');\n",
              "      quickchartButtonEl.disabled = true;  // To prevent multiple clicks.\n",
              "      quickchartButtonEl.classList.add('colab-df-spinner');\n",
              "      try {\n",
              "        const charts = await google.colab.kernel.invokeFunction(\n",
              "            'suggestCharts', [key], {});\n",
              "      } catch (error) {\n",
              "        console.error('Error during call to suggestCharts:', error);\n",
              "      }\n",
              "      quickchartButtonEl.classList.remove('colab-df-spinner');\n",
              "      quickchartButtonEl.classList.add('colab-df-quickchart-complete');\n",
              "    }\n",
              "    (() => {\n",
              "      let quickchartButtonEl =\n",
              "        document.querySelector('#df-1a584e99-2a52-48a3-ab4a-96bb581f70a1 button');\n",
              "      quickchartButtonEl.style.display =\n",
              "        google.colab.kernel.accessAllowed ? 'block' : 'none';\n",
              "    })();\n",
              "  </script>\n",
              "</div>\n",
              "\n",
              "    </div>\n",
              "  </div>\n"
            ],
            "application/vnd.google.colaboratory.intrinsic+json": {
              "type": "dataframe",
              "variable_name": "train_meta"
            }
          },
          "metadata": {},
          "execution_count": 31
        }
      ]
    },
    {
      "cell_type": "code",
      "source": [
        "test_meta.head()"
      ],
      "metadata": {
        "colab": {
          "base_uri": "https://localhost:8080/",
          "height": 399
        },
        "id": "VF_ozLHsHIki",
        "outputId": "39e9d8cd-ff01-43b5-db9f-753f52402449"
      },
      "execution_count": null,
      "outputs": [
        {
          "output_type": "execute_result",
          "data": {
            "text/plain": [
              "   row_id  building_id            timestamp  meter_reading  site_id  \\\n",
              "0       0           18  2016-01-01 00:00:00            NaN        0   \n",
              "1       1           19  2016-01-01 00:00:00            NaN        0   \n",
              "2       2           26  2016-01-01 00:00:00            NaN        0   \n",
              "3       3           38  2016-01-01 00:00:00            NaN        0   \n",
              "4       4           39  2016-01-01 00:00:00            NaN        0   \n",
              "\n",
              "  primary_use  square_feet  year_built  floor_count  \n",
              "0   Education       111891      1996.0          NaN  \n",
              "1      Office        18717      2004.0          NaN  \n",
              "2      Office        26953      2005.0          NaN  \n",
              "3      Office        12769      2013.0          NaN  \n",
              "4      Office        64619      1969.0          NaN  "
            ],
            "text/html": [
              "\n",
              "  <div id=\"df-c37a74f5-8a4f-4e6f-b8f4-d1565e9f5ef7\" class=\"colab-df-container\">\n",
              "    <div>\n",
              "<style scoped>\n",
              "    .dataframe tbody tr th:only-of-type {\n",
              "        vertical-align: middle;\n",
              "    }\n",
              "\n",
              "    .dataframe tbody tr th {\n",
              "        vertical-align: top;\n",
              "    }\n",
              "\n",
              "    .dataframe thead th {\n",
              "        text-align: right;\n",
              "    }\n",
              "</style>\n",
              "<table border=\"1\" class=\"dataframe\">\n",
              "  <thead>\n",
              "    <tr style=\"text-align: right;\">\n",
              "      <th></th>\n",
              "      <th>row_id</th>\n",
              "      <th>building_id</th>\n",
              "      <th>timestamp</th>\n",
              "      <th>meter_reading</th>\n",
              "      <th>site_id</th>\n",
              "      <th>primary_use</th>\n",
              "      <th>square_feet</th>\n",
              "      <th>year_built</th>\n",
              "      <th>floor_count</th>\n",
              "    </tr>\n",
              "  </thead>\n",
              "  <tbody>\n",
              "    <tr>\n",
              "      <th>0</th>\n",
              "      <td>0</td>\n",
              "      <td>18</td>\n",
              "      <td>2016-01-01 00:00:00</td>\n",
              "      <td>NaN</td>\n",
              "      <td>0</td>\n",
              "      <td>Education</td>\n",
              "      <td>111891</td>\n",
              "      <td>1996.0</td>\n",
              "      <td>NaN</td>\n",
              "    </tr>\n",
              "    <tr>\n",
              "      <th>1</th>\n",
              "      <td>1</td>\n",
              "      <td>19</td>\n",
              "      <td>2016-01-01 00:00:00</td>\n",
              "      <td>NaN</td>\n",
              "      <td>0</td>\n",
              "      <td>Office</td>\n",
              "      <td>18717</td>\n",
              "      <td>2004.0</td>\n",
              "      <td>NaN</td>\n",
              "    </tr>\n",
              "    <tr>\n",
              "      <th>2</th>\n",
              "      <td>2</td>\n",
              "      <td>26</td>\n",
              "      <td>2016-01-01 00:00:00</td>\n",
              "      <td>NaN</td>\n",
              "      <td>0</td>\n",
              "      <td>Office</td>\n",
              "      <td>26953</td>\n",
              "      <td>2005.0</td>\n",
              "      <td>NaN</td>\n",
              "    </tr>\n",
              "    <tr>\n",
              "      <th>3</th>\n",
              "      <td>3</td>\n",
              "      <td>38</td>\n",
              "      <td>2016-01-01 00:00:00</td>\n",
              "      <td>NaN</td>\n",
              "      <td>0</td>\n",
              "      <td>Office</td>\n",
              "      <td>12769</td>\n",
              "      <td>2013.0</td>\n",
              "      <td>NaN</td>\n",
              "    </tr>\n",
              "    <tr>\n",
              "      <th>4</th>\n",
              "      <td>4</td>\n",
              "      <td>39</td>\n",
              "      <td>2016-01-01 00:00:00</td>\n",
              "      <td>NaN</td>\n",
              "      <td>0</td>\n",
              "      <td>Office</td>\n",
              "      <td>64619</td>\n",
              "      <td>1969.0</td>\n",
              "      <td>NaN</td>\n",
              "    </tr>\n",
              "  </tbody>\n",
              "</table>\n",
              "</div>\n",
              "    <div class=\"colab-df-buttons\">\n",
              "\n",
              "  <div class=\"colab-df-container\">\n",
              "    <button class=\"colab-df-convert\" onclick=\"convertToInteractive('df-c37a74f5-8a4f-4e6f-b8f4-d1565e9f5ef7')\"\n",
              "            title=\"Convert this dataframe to an interactive table.\"\n",
              "            style=\"display:none;\">\n",
              "\n",
              "  <svg xmlns=\"http://www.w3.org/2000/svg\" height=\"24px\" viewBox=\"0 -960 960 960\">\n",
              "    <path d=\"M120-120v-720h720v720H120Zm60-500h600v-160H180v160Zm220 220h160v-160H400v160Zm0 220h160v-160H400v160ZM180-400h160v-160H180v160Zm440 0h160v-160H620v160ZM180-180h160v-160H180v160Zm440 0h160v-160H620v160Z\"/>\n",
              "  </svg>\n",
              "    </button>\n",
              "\n",
              "  <style>\n",
              "    .colab-df-container {\n",
              "      display:flex;\n",
              "      gap: 12px;\n",
              "    }\n",
              "\n",
              "    .colab-df-convert {\n",
              "      background-color: #E8F0FE;\n",
              "      border: none;\n",
              "      border-radius: 50%;\n",
              "      cursor: pointer;\n",
              "      display: none;\n",
              "      fill: #1967D2;\n",
              "      height: 32px;\n",
              "      padding: 0 0 0 0;\n",
              "      width: 32px;\n",
              "    }\n",
              "\n",
              "    .colab-df-convert:hover {\n",
              "      background-color: #E2EBFA;\n",
              "      box-shadow: 0px 1px 2px rgba(60, 64, 67, 0.3), 0px 1px 3px 1px rgba(60, 64, 67, 0.15);\n",
              "      fill: #174EA6;\n",
              "    }\n",
              "\n",
              "    .colab-df-buttons div {\n",
              "      margin-bottom: 4px;\n",
              "    }\n",
              "\n",
              "    [theme=dark] .colab-df-convert {\n",
              "      background-color: #3B4455;\n",
              "      fill: #D2E3FC;\n",
              "    }\n",
              "\n",
              "    [theme=dark] .colab-df-convert:hover {\n",
              "      background-color: #434B5C;\n",
              "      box-shadow: 0px 1px 3px 1px rgba(0, 0, 0, 0.15);\n",
              "      filter: drop-shadow(0px 1px 2px rgba(0, 0, 0, 0.3));\n",
              "      fill: #FFFFFF;\n",
              "    }\n",
              "  </style>\n",
              "\n",
              "    <script>\n",
              "      const buttonEl =\n",
              "        document.querySelector('#df-c37a74f5-8a4f-4e6f-b8f4-d1565e9f5ef7 button.colab-df-convert');\n",
              "      buttonEl.style.display =\n",
              "        google.colab.kernel.accessAllowed ? 'block' : 'none';\n",
              "\n",
              "      async function convertToInteractive(key) {\n",
              "        const element = document.querySelector('#df-c37a74f5-8a4f-4e6f-b8f4-d1565e9f5ef7');\n",
              "        const dataTable =\n",
              "          await google.colab.kernel.invokeFunction('convertToInteractive',\n",
              "                                                    [key], {});\n",
              "        if (!dataTable) return;\n",
              "\n",
              "        const docLinkHtml = 'Like what you see? Visit the ' +\n",
              "          '<a target=\"_blank\" href=https://colab.research.google.com/notebooks/data_table.ipynb>data table notebook</a>'\n",
              "          + ' to learn more about interactive tables.';\n",
              "        element.innerHTML = '';\n",
              "        dataTable['output_type'] = 'display_data';\n",
              "        await google.colab.output.renderOutput(dataTable, element);\n",
              "        const docLink = document.createElement('div');\n",
              "        docLink.innerHTML = docLinkHtml;\n",
              "        element.appendChild(docLink);\n",
              "      }\n",
              "    </script>\n",
              "  </div>\n",
              "\n",
              "\n",
              "<div id=\"df-4274adf6-c3a0-42fe-8ef9-50f20d624544\">\n",
              "  <button class=\"colab-df-quickchart\" onclick=\"quickchart('df-4274adf6-c3a0-42fe-8ef9-50f20d624544')\"\n",
              "            title=\"Suggest charts\"\n",
              "            style=\"display:none;\">\n",
              "\n",
              "<svg xmlns=\"http://www.w3.org/2000/svg\" height=\"24px\"viewBox=\"0 0 24 24\"\n",
              "     width=\"24px\">\n",
              "    <g>\n",
              "        <path d=\"M19 3H5c-1.1 0-2 .9-2 2v14c0 1.1.9 2 2 2h14c1.1 0 2-.9 2-2V5c0-1.1-.9-2-2-2zM9 17H7v-7h2v7zm4 0h-2V7h2v10zm4 0h-2v-4h2v4z\"/>\n",
              "    </g>\n",
              "</svg>\n",
              "  </button>\n",
              "\n",
              "<style>\n",
              "  .colab-df-quickchart {\n",
              "      --bg-color: #E8F0FE;\n",
              "      --fill-color: #1967D2;\n",
              "      --hover-bg-color: #E2EBFA;\n",
              "      --hover-fill-color: #174EA6;\n",
              "      --disabled-fill-color: #AAA;\n",
              "      --disabled-bg-color: #DDD;\n",
              "  }\n",
              "\n",
              "  [theme=dark] .colab-df-quickchart {\n",
              "      --bg-color: #3B4455;\n",
              "      --fill-color: #D2E3FC;\n",
              "      --hover-bg-color: #434B5C;\n",
              "      --hover-fill-color: #FFFFFF;\n",
              "      --disabled-bg-color: #3B4455;\n",
              "      --disabled-fill-color: #666;\n",
              "  }\n",
              "\n",
              "  .colab-df-quickchart {\n",
              "    background-color: var(--bg-color);\n",
              "    border: none;\n",
              "    border-radius: 50%;\n",
              "    cursor: pointer;\n",
              "    display: none;\n",
              "    fill: var(--fill-color);\n",
              "    height: 32px;\n",
              "    padding: 0;\n",
              "    width: 32px;\n",
              "  }\n",
              "\n",
              "  .colab-df-quickchart:hover {\n",
              "    background-color: var(--hover-bg-color);\n",
              "    box-shadow: 0 1px 2px rgba(60, 64, 67, 0.3), 0 1px 3px 1px rgba(60, 64, 67, 0.15);\n",
              "    fill: var(--button-hover-fill-color);\n",
              "  }\n",
              "\n",
              "  .colab-df-quickchart-complete:disabled,\n",
              "  .colab-df-quickchart-complete:disabled:hover {\n",
              "    background-color: var(--disabled-bg-color);\n",
              "    fill: var(--disabled-fill-color);\n",
              "    box-shadow: none;\n",
              "  }\n",
              "\n",
              "  .colab-df-spinner {\n",
              "    border: 2px solid var(--fill-color);\n",
              "    border-color: transparent;\n",
              "    border-bottom-color: var(--fill-color);\n",
              "    animation:\n",
              "      spin 1s steps(1) infinite;\n",
              "  }\n",
              "\n",
              "  @keyframes spin {\n",
              "    0% {\n",
              "      border-color: transparent;\n",
              "      border-bottom-color: var(--fill-color);\n",
              "      border-left-color: var(--fill-color);\n",
              "    }\n",
              "    20% {\n",
              "      border-color: transparent;\n",
              "      border-left-color: var(--fill-color);\n",
              "      border-top-color: var(--fill-color);\n",
              "    }\n",
              "    30% {\n",
              "      border-color: transparent;\n",
              "      border-left-color: var(--fill-color);\n",
              "      border-top-color: var(--fill-color);\n",
              "      border-right-color: var(--fill-color);\n",
              "    }\n",
              "    40% {\n",
              "      border-color: transparent;\n",
              "      border-right-color: var(--fill-color);\n",
              "      border-top-color: var(--fill-color);\n",
              "    }\n",
              "    60% {\n",
              "      border-color: transparent;\n",
              "      border-right-color: var(--fill-color);\n",
              "    }\n",
              "    80% {\n",
              "      border-color: transparent;\n",
              "      border-right-color: var(--fill-color);\n",
              "      border-bottom-color: var(--fill-color);\n",
              "    }\n",
              "    90% {\n",
              "      border-color: transparent;\n",
              "      border-bottom-color: var(--fill-color);\n",
              "    }\n",
              "  }\n",
              "</style>\n",
              "\n",
              "  <script>\n",
              "    async function quickchart(key) {\n",
              "      const quickchartButtonEl =\n",
              "        document.querySelector('#' + key + ' button');\n",
              "      quickchartButtonEl.disabled = true;  // To prevent multiple clicks.\n",
              "      quickchartButtonEl.classList.add('colab-df-spinner');\n",
              "      try {\n",
              "        const charts = await google.colab.kernel.invokeFunction(\n",
              "            'suggestCharts', [key], {});\n",
              "      } catch (error) {\n",
              "        console.error('Error during call to suggestCharts:', error);\n",
              "      }\n",
              "      quickchartButtonEl.classList.remove('colab-df-spinner');\n",
              "      quickchartButtonEl.classList.add('colab-df-quickchart-complete');\n",
              "    }\n",
              "    (() => {\n",
              "      let quickchartButtonEl =\n",
              "        document.querySelector('#df-4274adf6-c3a0-42fe-8ef9-50f20d624544 button');\n",
              "      quickchartButtonEl.style.display =\n",
              "        google.colab.kernel.accessAllowed ? 'block' : 'none';\n",
              "    })();\n",
              "  </script>\n",
              "</div>\n",
              "\n",
              "    </div>\n",
              "  </div>\n"
            ],
            "application/vnd.google.colaboratory.intrinsic+json": {
              "type": "dataframe",
              "variable_name": "test_meta"
            }
          },
          "metadata": {},
          "execution_count": 32
        }
      ]
    },
    {
      "cell_type": "code",
      "source": [
        "#Ma hoa one-hot (train)\n",
        "\n",
        "train=pd.read_csv('train_meta.csv')\n",
        "train=pd.get_dummies(train,columns=['primary_use'], drop_first=False)\n",
        "train[train.select_dtypes(include=['bool']).columns] = train.select_dtypes(include=['bool']).astype(int)\n",
        "\n",
        "train = train.drop(columns=['site_id'])\n",
        "\n",
        "train.head()\n",
        "\n",
        "columns=[col for col in train.columns if col!='anomaly']+['anomaly']\n",
        "train=train[columns]\n",
        "\n",
        "train.to_csv('train_meta_one-hot.csv', index=False)\n"
      ],
      "metadata": {
        "id": "wxavkj03kKi7"
      },
      "execution_count": null,
      "outputs": []
    },
    {
      "cell_type": "code",
      "source": [
        "#Ma hoa Label (train)\n",
        "\n",
        "train=pd.read_csv('train_meta.csv')\n",
        "\n",
        "label_encoder = LabelEncoder()\n",
        "train['primary_use_label'] = label_encoder.fit_transform(train['primary_use'])\n",
        "\n",
        "columns = [col for col in train.columns if col != 'anomaly'] + ['anomaly']\n",
        "train = train[columns]\n",
        "\n",
        "train = train.drop(columns=['site_id','primary_use'])\n",
        "\n",
        "train['meter_reading_missing'] = train['meter_reading'].isnull().astype(int)\n",
        "train['year_built_missing'] = train['year_built'].isnull().astype(int)\n",
        "train['floor_count_missing'] = train['floor_count'].isnull().astype(int)\n",
        "\n",
        "train['meter_reading'] = train['meter_reading'].fillna(0)\n",
        "train['year_built'] = train['year_built'].fillna(train['year_built'].median())\n",
        "train['floor_count'] = train['floor_count'].fillna(1)\n",
        "\n",
        "print(train[['meter_reading', 'year_built', 'floor_count']].isnull().sum())\n",
        "\n",
        "print(train.head())\n",
        "\n",
        "train.to_csv('train_meta_label.csv', index=False)\n"
      ],
      "metadata": {
        "id": "KO-H69k-wYPI",
        "colab": {
          "base_uri": "https://localhost:8080/"
        },
        "outputId": "1fb8d2c3-6c88-4ee1-88db-85a46f6e4ec1"
      },
      "execution_count": null,
      "outputs": [
        {
          "output_type": "stream",
          "name": "stdout",
          "text": [
            "meter_reading    0\n",
            "year_built       0\n",
            "floor_count      0\n",
            "dtype: int64\n",
            "   building_id            timestamp  meter_reading  square_feet  year_built  \\\n",
            "0            1  2016-01-01 00:00:00            0.0         2720      2004.0   \n",
            "1           32  2016-01-01 00:00:00            0.0        48392      2005.0   \n",
            "2           41  2016-01-01 00:00:00            0.0        93860      1968.0   \n",
            "3           55  2016-01-01 00:00:00            0.0        16726      2011.0   \n",
            "4           69  2016-01-01 00:00:00            0.0       387638      2000.0   \n",
            "\n",
            "   floor_count  primary_use_label  anomaly  meter_reading_missing  \\\n",
            "0          1.0                  0        0                      1   \n",
            "1          1.0                  6        0                      1   \n",
            "2          1.0                  6        0                      1   \n",
            "3          1.0                  6        0                      1   \n",
            "4          1.0                  8        0                      1   \n",
            "\n",
            "   year_built_missing  floor_count_missing  \n",
            "0                   0                    1  \n",
            "1                   0                    1  \n",
            "2                   0                    1  \n",
            "3                   0                    1  \n",
            "4                   0                    1  \n"
          ]
        }
      ]
    },
    {
      "cell_type": "code",
      "source": [
        "#Ma hoa Label (test)\n",
        "\n",
        "test=pd.read_csv('test_meta.csv')\n",
        "\n",
        "label_encoder = LabelEncoder()\n",
        "test['primary_use_label'] = label_encoder.fit_transform(test['primary_use'])\n",
        "\n",
        "\n",
        "\n",
        "test = test.drop(columns=['site_id','primary_use'])\n",
        "\n",
        "test['meter_reading_missing'] = test['meter_reading'].isnull().astype(int)\n",
        "test['year_built_missing'] = test['year_built'].isnull().astype(int)\n",
        "test['floor_count_missing'] = test['floor_count'].isnull().astype(int)\n",
        "\n",
        "test['meter_reading'] = test['meter_reading'].fillna(0)\n",
        "test['year_built'] = test['year_built'].fillna(test_meta['year_built'].median())\n",
        "test['floor_count'] = test['floor_count'].fillna(1)\n",
        "\n",
        "print(test[['meter_reading', 'year_built', 'floor_count']].isnull().sum())\n",
        "\n",
        "print(test.head())\n",
        "\n",
        "test.to_csv('test_meta_label.csv', index=False)\n"
      ],
      "metadata": {
        "colab": {
          "base_uri": "https://localhost:8080/"
        },
        "id": "osXn-uLMGJIR",
        "outputId": "98cff480-2eda-414f-dee6-2f37401782d7"
      },
      "execution_count": null,
      "outputs": [
        {
          "output_type": "stream",
          "name": "stdout",
          "text": [
            "meter_reading    0\n",
            "year_built       0\n",
            "floor_count      0\n",
            "dtype: int64\n",
            "   row_id  building_id            timestamp  meter_reading  square_feet  \\\n",
            "0       0           18  2016-01-01 00:00:00            0.0       111891   \n",
            "1       1           19  2016-01-01 00:00:00            0.0        18717   \n",
            "2       2           26  2016-01-01 00:00:00            0.0        26953   \n",
            "3       3           38  2016-01-01 00:00:00            0.0        12769   \n",
            "4       4           39  2016-01-01 00:00:00            0.0        64619   \n",
            "\n",
            "   year_built  floor_count  primary_use_label  meter_reading_missing  \\\n",
            "0      1996.0          1.0                  0                      1   \n",
            "1      2004.0          1.0                  5                      1   \n",
            "2      2005.0          1.0                  5                      1   \n",
            "3      2013.0          1.0                  5                      1   \n",
            "4      1969.0          1.0                  5                      1   \n",
            "\n",
            "   year_built_missing  floor_count_missing  \n",
            "0                   0                    1  \n",
            "1                   0                    1  \n",
            "2                   0                    1  \n",
            "3                   0                    1  \n",
            "4                   0                    1  \n"
          ]
        }
      ]
    },
    {
      "cell_type": "markdown",
      "source": [
        "**DRAFT**"
      ],
      "metadata": {
        "id": "MJQzOaKnYeCn"
      }
    },
    {
      "cell_type": "code",
      "source": [
        "import random\n",
        "\n",
        "test_index = random.randint(0, len(X_val) - 1)\n",
        "\n",
        "choose_model = 0  # 0: XGBoost, 1: Logistic Regression, 2: ANN\n",
        "\n",
        "y_actual = Y_val.iloc[test_index]\n",
        "\n",
        "model, model_name = models[choose_model]\n",
        "\n",
        "if model_name == 'ANN':\n",
        "    y_predict = model.predict(X_val[test_index].reshape(1, -1))[0]\n",
        "    if y_predict.ndim == 2:\n",
        "        y_predict = y_predict[0]\n",
        "elif model_name == 'logistic':\n",
        "    y_predict = model.predict(X_val[test_index].reshape(1, -1))[0]\n",
        "else:  # XGBoost\n",
        "    y_predict = model.predict_proba(X_val[test_index].reshape(1, -1))[0, 1]\n",
        "\n",
        "\n",
        "\n",
        "building_id = X_val_temp['building_id'].iloc[test_index]\n",
        "meter_reading = X_val_temp['meter_reading'].iloc[test_index]\n",
        "time = X_val_temp['time'].iloc[test_index]\n",
        "month = X_val_temp['month'].iloc[test_index]\n",
        "day = X_val_temp['day'].iloc[test_index]\n",
        "\n",
        "\n",
        "if choose_model == 0:\n",
        "    predict_result = \"Bất thường\" if y_predict > 0.5 else \"Bình thường\"\n",
        "    print('Phát hiện bất thường với mô hình XGBoost')\n",
        "elif choose_model == 1:\n",
        "    predict_result = \"Bất thường\" if y_predict > 0.5 else \"Bình thường\"\n",
        "    print('Phát hiện bất thường với mô hình hồi quy Logistic')\n",
        "else:\n",
        "    predict_result = \"Bất thường\" if y_predict > 0.6 else \"Bình thường\"\n",
        "    print('Phát hiện bất thường với mô hình ANN')\n",
        "\n",
        "print(y_predict)\n",
        "\n",
        "# In kết quả\n",
        "print(f'Tòa nhà {building_id} vào lúc {time}:00 ngày {day}/{month} có chỉ số thu được là {meter_reading}')\n",
        "print(f'Dự đoán: {predict_result}')\n",
        "print(f'Trạng thái thực tế: {\"Bất thường\" if y_actual == 1 else \"Bình thường\"}')"
      ],
      "metadata": {
        "id": "TvGC68iIYdEO"
      },
      "execution_count": null,
      "outputs": []
    }
  ]
}
